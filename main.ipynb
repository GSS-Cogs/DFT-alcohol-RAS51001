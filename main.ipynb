{
 "cells": [
  {
   "cell_type": "markdown",
   "metadata": {},
   "source": [
    "Estimated number of reported drink drive accidents and casualties in Great Britain: 1979 - 2016"
   ]
  },
  {
   "cell_type": "code",
   "execution_count": null,
   "metadata": {},
   "outputs": [],
   "source": [
    "from gssutils import *\n",
    "\n",
    "scraper = Scraper('https://www.gov.uk/government/statistical-data-sets/ras51-reported-drinking-and-driving')\n",
    "scraper"
   ]
  },
  {
   "cell_type": "code",
   "execution_count": null,
   "metadata": {
    "collapsed": true
   },
   "outputs": [],
   "source": [
    "df = scraper.distribution(\n",
    "    title='Reported drink drive accidents and casualties in Great Britain since 1979'\n",
    ").as_pandas(sheet_name='RAS51001_Table_', start_row = 6,\n",
    "            row_limit = 39, start_column = 0, column_limit = 12)"
   ]
  },
  {
   "cell_type": "code",
   "execution_count": null,
   "metadata": {
    "collapsed": true
   },
   "outputs": [],
   "source": [
    "table = pd.DataFrame()"
   ]
  },
  {
   "cell_type": "code",
   "execution_count": null,
   "metadata": {
    "collapsed": true
   },
   "outputs": [],
   "source": [
    "observations = df.iloc[:,[0,1,2,3,4]]\n",
    "observations = observations.rename(columns=observations.iloc[0]).drop(observations.index[0])\n",
    "observations.columns.values[0] = 'Period'\n",
    "observations.columns.values[1] = 'fatal'\n",
    "observations.columns.values[2] = 'serious'\n",
    "observations.columns.values[3] = 'slight'\n",
    "observations.columns.values[4] = 'total'\n",
    "Final_table = pd.melt(observations,\n",
    "                       ['Period'], var_name=\"Severity\",\n",
    "                       value_name=\"Value\")\n",
    "Final_table['Unit'] = 'accidents'\n",
    "Final_table['Measure Type'] = 'Count of accidents'\n",
    "table = pd.concat([table,Final_table])"
   ]
  },
  {
   "cell_type": "code",
   "execution_count": null,
   "metadata": {
    "collapsed": true
   },
   "outputs": [],
   "source": [
    "observations1 = df.iloc[:,[0,7,9,10,11]]\n",
    "observations1 = observations1.rename(columns=observations1.iloc[0]).drop(observations1.index[0])\n",
    "observations1.columns.values[0] = 'Period'\n",
    "observations1.columns.values[1] = 'killed'\n",
    "observations1.columns.values[2] = 'seriously-injured'\n",
    "observations1.columns.values[3] = 'slightly-injured'\n",
    "observations1.columns.values[4] = 'total'\n",
    "Final_table = pd.melt(observations1,\n",
    "                       ['Period'], var_name=\"Severity\",\n",
    "                       value_name=\"Value\")\n",
    "Final_table['Unit'] = 'casualties'\n",
    "Final_table['Measure Type'] = 'Count of casualties'\n",
    "table = pd.concat([table,Final_table])"
   ]
  },
  {
   "cell_type": "markdown",
   "metadata": {},
   "source": [
    "Now deal with the confidence intervals?"
   ]
  },
  {
   "cell_type": "code",
   "execution_count": null,
   "metadata": {
    "collapsed": true
   },
   "outputs": [],
   "source": [
    "observations3 = df.iloc[:,[0,6,8]]\n",
    "observations3 = observations3.rename(columns=observations3.iloc[0]).drop(observations3.index[0])\n",
    "observations3.columns.values[0] = 'Period'\n",
    "observations3.columns.values[1] = 'CI Lower'\n",
    "observations3.columns.values[2] = 'CI Upper'\n",
    "observations3['Severity'] = 'killed'\n",
    "table = pd.merge(table, observations3, how = 'left', left_on = ['Period','Severity'],\n",
    "                      right_on = ['Period', 'Severity'])"
   ]
  },
  {
   "cell_type": "code",
   "execution_count": null,
   "metadata": {
    "collapsed": true
   },
   "outputs": [],
   "source": [
    "table = table[ ['Period','Severity', 'Measure Type','Value', 'CI Lower', 'CI Upper', 'Unit']]"
   ]
  },
  {
   "cell_type": "code",
   "execution_count": null,
   "metadata": {
    "collapsed": true
   },
   "outputs": [],
   "source": [
    "table['Period'] = 'year/' + table['Period'].map(str)"
   ]
  },
  {
   "cell_type": "code",
   "execution_count": null,
   "metadata": {
    "collapsed": true
   },
   "outputs": [],
   "source": [
    "import numpy as np\n",
    "table['CI Lower'] = table['CI Lower'].map(lambda x:\n",
    "                            '' if x == ':' else x)\n",
    "table['CI Upper'] = table['CI Upper'].map(lambda x:\n",
    "                            '' if x == ':' else x)"
   ]
  },
  {
   "cell_type": "code",
   "execution_count": null,
   "metadata": {
    "collapsed": true
   },
   "outputs": [],
   "source": [
    "from pathlib import Path\n",
    "\n",
    "out = Path('out')\n",
    "out.mkdir(exist_ok=True, parents=True)\n",
    "table.drop_duplicates().to_csv(out / ('observations.csv'), index = False)"
   ]
  },
  {
   "cell_type": "code",
   "execution_count": null,
   "metadata": {},
   "outputs": [],
   "source": [
    "scraper.dataset.family = 'health'\n",
    "scraper.dataset.theme = THEME['health-social-care']\n",
    "with open(out / 'dataset.trig', 'wb') as metadata:\n",
    "    metadata.write(scraper.generate_trig())"
   ]
  },
  {
   "cell_type": "code",
   "execution_count": null,
   "metadata": {},
   "outputs": [],
   "source": [
    "table"
   ]
  },
  {
   "cell_type": "code",
   "execution_count": null,
   "metadata": {
    "collapsed": true
   },
   "outputs": [],
   "source": []
  }
 ],
 "metadata": {
  "kernelspec": {
   "display_name": "Python 3",
   "language": "python",
   "name": "python3"
  },
  "language_info": {
   "codemirror_mode": {
    "name": "ipython",
    "version": 3
   },
   "file_extension": ".py",
   "mimetype": "text/x-python",
   "name": "python",
   "nbconvert_exporter": "python",
   "pygments_lexer": "ipython3",
   "version": "3.6.3"
  }
 },
 "nbformat": 4,
 "nbformat_minor": 2
}
